{
 "cells": [
  {
   "cell_type": "code",
   "execution_count": 2,
   "id": "003d2bea",
   "metadata": {},
   "outputs": [
    {
     "name": "stdout",
     "output_type": "stream",
     "text": [
      "Hey, long time no see!\n"
     ]
    }
   ],
   "source": [
    "# My name is Kota Om Sai Kumar, batch-88 and this is my Python Basics Assignment for 16/09/2023.\n",
    "message = \"Hey, long time no see!\"\n",
    "print(message)"
   ]
  },
  {
   "cell_type": "code",
   "execution_count": 6,
   "id": "75460701",
   "metadata": {},
   "outputs": [
    {
     "name": "stdout",
     "output_type": "stream",
     "text": [
      "Yeah, I was busy with my work.\n",
      "Great, At last you got some time to meet me.\n"
     ]
    }
   ],
   "source": [
    "message = \"Yeah, I was busy with my work.\"\n",
    "print(message)\n",
    "new_message = \"Great, At last you got some time to meet me.\"\n",
    "print(new_message)"
   ]
  },
  {
   "cell_type": "code",
   "execution_count": 7,
   "id": "0a680721",
   "metadata": {},
   "outputs": [
    {
     "name": "stdout",
     "output_type": "stream",
     "text": [
      "Hi Sai, how are you doing?\n"
     ]
    }
   ],
   "source": [
    "message = \"Hi Sai, how are you doing?\"\n",
    "print(message)"
   ]
  },
  {
   "cell_type": "code",
   "execution_count": 15,
   "id": "6eede439",
   "metadata": {},
   "outputs": [
    {
     "name": "stdout",
     "output_type": "stream",
     "text": [
      "Lord Sri Krishna said, \"Why Do You Worry Unnecessarily? Whom Do You Fear? Who Can Kill You? The Soul Is Neither Born Nor Dies.\"\n"
     ]
    }
   ],
   "source": [
    "quote = 'Lord Sri Krishna said, \"Why Do You Worry Unnecessarily? Whom Do You Fear? Who Can Kill You? The Soul Is Neither Born Nor Dies.\"'\n",
    "print(quote)"
   ]
  },
  {
   "cell_type": "code",
   "execution_count": 17,
   "id": "2d23ef51",
   "metadata": {},
   "outputs": [],
   "source": [
    "famous_person = \"Lord Sri Krishna\"\n",
    "message = \"I admire Lord Sri Krishna the most.\""
   ]
  },
  {
   "cell_type": "code",
   "execution_count": 19,
   "id": "867f7d5e",
   "metadata": {},
   "outputs": [
    {
     "name": "stdout",
     "output_type": "stream",
     "text": [
      "8\n",
      "8\n",
      "8\n",
      "8\n"
     ]
    }
   ],
   "source": [
    "# Here a = 2 and is added, subtracted, multiplied and divided by some values to get the answer 8.\n",
    "a = 2\n",
    "print(6+a)\n",
    "print(10-a)\n",
    "print(4*a)\n",
    "print(int(16/a))"
   ]
  },
  {
   "cell_type": "code",
   "execution_count": 26,
   "id": "ebfe417d",
   "metadata": {},
   "outputs": [
    {
     "name": "stdout",
     "output_type": "stream",
     "text": [
      "My favourite number is 2.\n"
     ]
    }
   ],
   "source": [
    "a = 2\n",
    "message = f\"My favourite number is {a}.\"\n",
    "print(message)"
   ]
  },
  {
   "cell_type": "code",
   "execution_count": 30,
   "id": "4cbf4069",
   "metadata": {},
   "outputs": [],
   "source": [
    "# Here,'f' is used in the string to format the string to f-string to indicate the value in {a} variable as my favourite number."
   ]
  },
  {
   "cell_type": "code",
   "execution_count": 47,
   "id": "c0c9b238",
   "metadata": {},
   "outputs": [
    {
     "name": "stdout",
     "output_type": "stream",
     "text": [
      "Aashish\n",
      "Ajay\n",
      "Akshay\n",
      "Bharath\n",
      "Maneesh\n",
      "Prashanth\n"
     ]
    }
   ],
   "source": [
    "names = [\"Aashish\",\"Ajay\",\"Akshay\",\"Bharath\",\"Maneesh\",\"Prashanth\"]\n",
    "for name in names:\n",
    "    print(name)"
   ]
  },
  {
   "cell_type": "code",
   "execution_count": 53,
   "id": "2f8acd4c",
   "metadata": {},
   "outputs": [
    {
     "name": "stdout",
     "output_type": "stream",
     "text": [
      "Hi,Aashish. How are you?\n",
      "Hi,Ajay. How are you?\n",
      "Hi,Akshay. How are you?\n",
      "Hi,Bharath. How are you?\n",
      "Hi,Maneesh. How are you?\n",
      "Hi,Prashanth. How are you?\n"
     ]
    }
   ],
   "source": [
    "names = [\"Aashish\",\"Ajay\",\"Akshay\",\"Bharath\",\"Maneesh\",\"Prashanth\"]\n",
    "for name in names:\n",
    "    message = f\"Hi,{name}. How are you?\"\n",
    "    print(message)"
   ]
  },
  {
   "cell_type": "code",
   "execution_count": 56,
   "id": "fb102180",
   "metadata": {},
   "outputs": [
    {
     "name": "stdout",
     "output_type": "stream",
     "text": [
      "I like Royal Enfield .\n",
      "I like R15 .\n",
      "I like MT15 .\n",
      "I like Duke390 .\n",
      "I like RC390 .\n",
      "I like RX100 .\n"
     ]
    }
   ],
   "source": [
    "bikes = [\"Royal Enfield\",\"R15\",\"MT15\",\"Duke390\",\"RC390\",\"RX100\"]\n",
    "for bike in bikes:\n",
    "    message = f\"I like {bike} .\"\n",
    "    print(message)"
   ]
  }
 ],
 "metadata": {
  "kernelspec": {
   "display_name": "Python 3 (ipykernel)",
   "language": "python",
   "name": "python3"
  },
  "language_info": {
   "codemirror_mode": {
    "name": "ipython",
    "version": 3
   },
   "file_extension": ".py",
   "mimetype": "text/x-python",
   "name": "python",
   "nbconvert_exporter": "python",
   "pygments_lexer": "ipython3",
   "version": "3.11.4"
  }
 },
 "nbformat": 4,
 "nbformat_minor": 5
}
